{
 "cells": [
  {
   "cell_type": "code",
   "execution_count": null,
   "metadata": {},
   "outputs": [],
   "source": [
    "# Outliers in target variable? \n",
    "\n",
    "# It depends. If you have enough training data available, you can choose to discard the outliers. But usually, it would \n",
    "# be a good idea to look at the data and decide the cause of the outlier before taking any action.\n",
    "\n",
    "# I believe dropping data is always a harsh step, and it should be taken only in extreme conditions when we’re sure that \n",
    "# the outlier is either a measurement/data entry error (it is not always known in the generic case though) or the artifact \n",
    "# to suboptimal sampling your training data\n",
    "\n",
    "# Before removing the outliers attributable to the measurement/data entry error, try to correct the error if possible \n",
    "# (before you drop the respective outlier)\n",
    "\n",
    "# If the extreme (outlier) value is a legitimate observation that is a natural part of the population you’re studying, \n",
    "# you should leave it in the training dataset\n",
    "\n",
    "# Whenever you decide to remove outliers, it would be nice to document the excluded data points as well as explain your \n",
    "# reasoning. You must be able to attribute a specific cause for removing outliers.\n",
    "\n",
    "# Another approach is to perform the analysis with and without these observations and discuss the differences. Comparing \n",
    "# results in this manner is particularly useful when you’re unsure about removing an outlier and when there is substantial \n",
    "# disagreement within a group over this question.\n",
    "\n",
    "\n",
    "# Last but not least, there are some good statistical and ML algorithms that can handle outliers in data solidly. If you \n",
    "# decide to engage with one of such algorithms in your ML experiments down the road, you can soften your outlier removal / \n",
    "# data correcting approach."
   ]
  },
  {
   "cell_type": "code",
   "execution_count": null,
   "metadata": {},
   "outputs": [],
   "source": []
  }
 ],
 "metadata": {
  "language_info": {
   "name": "python"
  },
  "orig_nbformat": 4
 },
 "nbformat": 4,
 "nbformat_minor": 2
}
