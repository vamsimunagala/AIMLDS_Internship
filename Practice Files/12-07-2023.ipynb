{
 "cells": [
  {
   "cell_type": "markdown",
   "metadata": {},
   "source": [
    "Health Insurance Dataset "
   ]
  },
  {
   "cell_type": "code",
   "execution_count": 1,
   "metadata": {},
   "outputs": [],
   "source": [
    "# Importing the libraries\n",
    "\n",
    "import pandas as pd\n",
    "import numpy as np \n",
    "import matplotlib.pyplot as plt\n",
    "\n",
    "%matplotlib inline\n",
    "\n",
    "# Ignore harmless warnings \n",
    "\n",
    "import warnings \n",
    "warnings.filterwarnings(\"ignore\")\n",
    "\n",
    "# Set to display all the columns in dataset\n",
    "\n",
    "pd.set_option(\"display.max_columns\", None)\n",
    "\n",
    "# Import psql to run queries \n",
    "\n",
    "import pandasql as psql"
   ]
  },
  {
   "cell_type": "code",
   "execution_count": 6,
   "metadata": {},
   "outputs": [
    {
     "data": {
      "text/html": [
       "<div>\n",
       "<style scoped>\n",
       "    .dataframe tbody tr th:only-of-type {\n",
       "        vertical-align: middle;\n",
       "    }\n",
       "\n",
       "    .dataframe tbody tr th {\n",
       "        vertical-align: top;\n",
       "    }\n",
       "\n",
       "    .dataframe thead th {\n",
       "        text-align: right;\n",
       "    }\n",
       "</style>\n",
       "<table border=\"1\" class=\"dataframe\">\n",
       "  <thead>\n",
       "    <tr style=\"text-align: right;\">\n",
       "      <th></th>\n",
       "      <th>Record_ID</th>\n",
       "      <th>Age</th>\n",
       "      <th>Gender</th>\n",
       "      <th>BMI</th>\n",
       "      <th>Children</th>\n",
       "      <th>Smoker</th>\n",
       "      <th>Region</th>\n",
       "      <th>Expenses</th>\n",
       "    </tr>\n",
       "  </thead>\n",
       "  <tbody>\n",
       "    <tr>\n",
       "      <th>0</th>\n",
       "      <td>QK-136276906</td>\n",
       "      <td>43</td>\n",
       "      <td>male</td>\n",
       "      <td>36.25</td>\n",
       "      <td>1</td>\n",
       "      <td>yes</td>\n",
       "      <td>southeast</td>\n",
       "      <td>40293.04</td>\n",
       "    </tr>\n",
       "    <tr>\n",
       "      <th>1</th>\n",
       "      <td>NR-126120553</td>\n",
       "      <td>40</td>\n",
       "      <td>male</td>\n",
       "      <td>34.56</td>\n",
       "      <td>2</td>\n",
       "      <td>no</td>\n",
       "      <td>southeast</td>\n",
       "      <td>23569.63</td>\n",
       "    </tr>\n",
       "    <tr>\n",
       "      <th>2</th>\n",
       "      <td>HY-182936067</td>\n",
       "      <td>48</td>\n",
       "      <td>male</td>\n",
       "      <td>26.04</td>\n",
       "      <td>5</td>\n",
       "      <td>no</td>\n",
       "      <td>southwest</td>\n",
       "      <td>10115.35</td>\n",
       "    </tr>\n",
       "    <tr>\n",
       "      <th>3</th>\n",
       "      <td>HF-142445422</td>\n",
       "      <td>50</td>\n",
       "      <td>male</td>\n",
       "      <td>31.09</td>\n",
       "      <td>3</td>\n",
       "      <td>yes</td>\n",
       "      <td>northwest</td>\n",
       "      <td>40736.57</td>\n",
       "    </tr>\n",
       "    <tr>\n",
       "      <th>4</th>\n",
       "      <td>NM-183693148</td>\n",
       "      <td>42</td>\n",
       "      <td>male</td>\n",
       "      <td>33.04</td>\n",
       "      <td>1</td>\n",
       "      <td>yes</td>\n",
       "      <td>northeast</td>\n",
       "      <td>39144.85</td>\n",
       "    </tr>\n",
       "  </tbody>\n",
       "</table>\n",
       "</div>"
      ],
      "text/plain": [
       "      Record_ID  Age Gender    BMI  Children Smoker     Region  Expenses\n",
       "0  QK-136276906   43   male  36.25         1    yes  southeast  40293.04\n",
       "1  NR-126120553   40   male  34.56         2     no  southeast  23569.63\n",
       "2  HY-182936067   48   male  26.04         5     no  southwest  10115.35\n",
       "3  HF-142445422   50   male  31.09         3    yes  northwest  40736.57\n",
       "4  NM-183693148   42   male  33.04         1    yes  northeast  39144.85"
      ]
     },
     "execution_count": 6,
     "metadata": {},
     "output_type": "execute_result"
    }
   ],
   "source": [
    "#load the health insurance datset \n",
    "\n",
    "HealthIns = pd.read_csv(r\"/home/kevinmithnick/Documents/AIMLInternship/Datasets/Health_Ins_Expenses.csv\", header=0)\n",
    "\n",
    "#copying into backup files \n",
    "\n",
    "HealthIns_BK = HealthIns.copy()\n",
    "\n",
    "# Displaying the first 5 rows of the dataset\n",
    "\n",
    "'''\n",
    "The head() function can be called on a DataFrame or a Series object, and by default, it returns the first 5 rows. \n",
    "You can also pass an optional parameter n to specify the number of rows you want to retrieve.\n",
    "\n",
    "'''\n",
    "\n",
    "HealthIns.head()"
   ]
  },
  {
   "cell_type": "code",
   "execution_count": 7,
   "metadata": {},
   "outputs": [
    {
     "name": "stdout",
     "output_type": "stream",
     "text": [
      "<class 'pandas.core.frame.DataFrame'>\n",
      "RangeIndex: 6695 entries, 0 to 6694\n",
      "Data columns (total 8 columns):\n",
      " #   Column     Non-Null Count  Dtype  \n",
      "---  ------     --------------  -----  \n",
      " 0   Record_ID  6695 non-null   object \n",
      " 1   Age        6695 non-null   int64  \n",
      " 2   Gender     6695 non-null   object \n",
      " 3   BMI        6695 non-null   float64\n",
      " 4   Children   6695 non-null   int64  \n",
      " 5   Smoker     6695 non-null   object \n",
      " 6   Region     6695 non-null   object \n",
      " 7   Expenses   6695 non-null   float64\n",
      "dtypes: float64(2), int64(2), object(4)\n",
      "memory usage: 418.6+ KB\n"
     ]
    },
    {
     "data": {
      "text/plain": [
       "(6695, 8)"
      ]
     },
     "execution_count": 7,
     "metadata": {},
     "output_type": "execute_result"
    }
   ],
   "source": [
    "#Display the dataset information\n",
    "\n",
    "HealthIns.info()\n",
    "\n",
    "#Display the dataset shape\n",
    "\n",
    "HealthIns.shape\n",
    "\n",
    "'''  \n",
    "In pandas, the shape attribute of dataframe gives the number of rows and number of columns in dataframe.\n",
    "it return the tuple of shape (Rows, columns) of dataframe.\n",
    "The shape attribute is commonly used to check the dimensions of a DataFrame or Series, \n",
    "especially when you need to perform operations or transformations based on the size or structure of the data.\n",
    "\n",
    "'''"
   ]
  },
  {
   "cell_type": "code",
   "execution_count": 4,
   "metadata": {},
   "outputs": [
    {
     "data": {
      "text/html": [
       "<div>\n",
       "<style scoped>\n",
       "    .dataframe tbody tr th:only-of-type {\n",
       "        vertical-align: middle;\n",
       "    }\n",
       "\n",
       "    .dataframe tbody tr th {\n",
       "        vertical-align: top;\n",
       "    }\n",
       "\n",
       "    .dataframe thead th {\n",
       "        text-align: right;\n",
       "    }\n",
       "</style>\n",
       "<table border=\"1\" class=\"dataframe\">\n",
       "  <thead>\n",
       "    <tr style=\"text-align: right;\">\n",
       "      <th></th>\n",
       "      <th>Record_ID</th>\n",
       "      <th>Age</th>\n",
       "      <th>Gender</th>\n",
       "      <th>BMI</th>\n",
       "      <th>Children</th>\n",
       "      <th>Smoker</th>\n",
       "      <th>Region</th>\n",
       "      <th>Expenses</th>\n",
       "    </tr>\n",
       "  </thead>\n",
       "  <tbody>\n",
       "    <tr>\n",
       "      <th>240</th>\n",
       "      <td>ZZ-131148293</td>\n",
       "      <td>22</td>\n",
       "      <td>female</td>\n",
       "      <td>24.73</td>\n",
       "      <td>1</td>\n",
       "      <td>no</td>\n",
       "      <td>southeast</td>\n",
       "      <td>2216.02</td>\n",
       "    </tr>\n",
       "    <tr>\n",
       "      <th>241</th>\n",
       "      <td>BQ-160063838</td>\n",
       "      <td>21</td>\n",
       "      <td>female</td>\n",
       "      <td>37.40</td>\n",
       "      <td>0</td>\n",
       "      <td>no</td>\n",
       "      <td>southeast</td>\n",
       "      <td>1634.08</td>\n",
       "    </tr>\n",
       "    <tr>\n",
       "      <th>242</th>\n",
       "      <td>UO-189044287</td>\n",
       "      <td>57</td>\n",
       "      <td>male</td>\n",
       "      <td>43.70</td>\n",
       "      <td>1</td>\n",
       "      <td>no</td>\n",
       "      <td>southwest</td>\n",
       "      <td>11576.13</td>\n",
       "    </tr>\n",
       "    <tr>\n",
       "      <th>246</th>\n",
       "      <td>OT-130753432</td>\n",
       "      <td>41</td>\n",
       "      <td>female</td>\n",
       "      <td>30.18</td>\n",
       "      <td>1</td>\n",
       "      <td>no</td>\n",
       "      <td>southeast</td>\n",
       "      <td>6515.36</td>\n",
       "    </tr>\n",
       "    <tr>\n",
       "      <th>247</th>\n",
       "      <td>BH-153144132</td>\n",
       "      <td>50</td>\n",
       "      <td>male</td>\n",
       "      <td>36.20</td>\n",
       "      <td>0</td>\n",
       "      <td>no</td>\n",
       "      <td>southwest</td>\n",
       "      <td>8457.82</td>\n",
       "    </tr>\n",
       "  </tbody>\n",
       "</table>\n",
       "</div>"
      ],
      "text/plain": [
       "        Record_ID  Age  Gender    BMI  Children Smoker     Region  Expenses\n",
       "240  ZZ-131148293   22  female  24.73         1     no  southeast   2216.02\n",
       "241  BQ-160063838   21  female  37.40         0     no  southeast   1634.08\n",
       "242  UO-189044287   57    male  43.70         1     no  southwest  11576.13\n",
       "246  OT-130753432   41  female  30.18         1     no  southeast   6515.36\n",
       "247  BH-153144132   50    male  36.20         0     no  southwest   8457.82"
      ]
     },
     "execution_count": 4,
     "metadata": {},
     "output_type": "execute_result"
    }
   ],
   "source": [
    "#Displaying Duplicate values in the dataset\n",
    "\n",
    "HealthIns_dup = HealthIns[HealthIns.duplicated(keep = 'last')]\n",
    "\n",
    "'''\n",
    "\n",
    "The duplicated() function in Pandas checks each row in the DataFrame and \n",
    "returns a boolean Series indicating whether each row is a duplicate or not. \n",
    "By specifying keep='last', only the last occurrence of each duplicate\n",
    "row will be considered as a duplicate, and the previous occurrences will be marked \n",
    "as non-duplicates.\n",
    "\n",
    "'''\n",
    "#Displaying the duplicate values\n",
    "\n",
    "HealthIns_dup\n"
   ]
  },
  {
   "cell_type": "code",
   "execution_count": 11,
   "metadata": {},
   "outputs": [
    {
     "name": "stdout",
     "output_type": "stream",
     "text": [
      "2.0.3\n"
     ]
    }
   ],
   "source": [
    "print(pd.__version__)"
   ]
  },
  {
   "cell_type": "code",
   "execution_count": 12,
   "metadata": {},
   "outputs": [
    {
     "data": {
      "text/plain": [
       "\"\\nIt's important to note that the drop_duplicates() method compares all columns by default to identify duplicates.\\nIf you want to consider specific columns for duplicate detection, you can pass a subset of columns using the subset parameter.\\n\\n\""
      ]
     },
     "execution_count": 12,
     "metadata": {},
     "output_type": "execute_result"
    }
   ],
   "source": [
    "#Removing the identified duplicate values\n",
    "\n",
    "HealthIns.drop_duplicates(keep = 'last', inplace = True)\n",
    "\n",
    "'''\n",
    "\n",
    "inplace=True: This parameter is optional and modifies the DataFrame in-place, meaning the changes are applied directly to the HealthIns DataFrame without creating a new DataFrame\n",
    ".Setting inplace=True avoids the need to assign the result back to the DataFrame.\n",
    "\n",
    "'''\n",
    "\n",
    "\n",
    "#Displaying the shape of the dataset after removing the duplicate values\n",
    "\n",
    "HealthIns.shape\n",
    "\n",
    "'''\n",
    "It's important to note that the drop_duplicates() method compares all columns by default to identify duplicates.\n",
    "If you want to consider specific columns for duplicate detection, you can pass a subset of columns using the subset parameter.\n",
    "\n",
    "'''"
   ]
  },
  {
   "cell_type": "code",
   "execution_count": 13,
   "metadata": {},
   "outputs": [],
   "source": [
    "#Re-setting the row index  \n",
    "\n",
    "HealthIns = HealthIns.reset_index(drop = True)\n",
    "\n",
    "#copy file to backup file after deleting the duplicate values\n",
    "\n",
    "HealthIns_BK2 = HealthIns.copy()\n"
   ]
  },
  {
   "cell_type": "code",
   "execution_count": null,
   "metadata": {},
   "outputs": [],
   "source": [
    "#Displaying the dataset information after removing the duplicate values\n",
    "\n"
   ]
  },
  {
   "cell_type": "code",
   "execution_count": 43,
   "metadata": {},
   "outputs": [
    {
     "data": {
      "text/html": [
       "<div>\n",
       "<style scoped>\n",
       "    .dataframe tbody tr th:only-of-type {\n",
       "        vertical-align: middle;\n",
       "    }\n",
       "\n",
       "    .dataframe tbody tr th {\n",
       "        vertical-align: top;\n",
       "    }\n",
       "\n",
       "    .dataframe thead th {\n",
       "        text-align: right;\n",
       "    }\n",
       "</style>\n",
       "<table border=\"1\" class=\"dataframe\">\n",
       "  <thead>\n",
       "    <tr style=\"text-align: right;\">\n",
       "      <th></th>\n",
       "      <th>Record_ID</th>\n",
       "      <th>Age</th>\n",
       "      <th>Gender</th>\n",
       "      <th>BMI</th>\n",
       "      <th>Children</th>\n",
       "      <th>Smoker</th>\n",
       "      <th>Region</th>\n",
       "      <th>Expenses</th>\n",
       "    </tr>\n",
       "  </thead>\n",
       "  <tbody>\n",
       "    <tr>\n",
       "      <th>6685</th>\n",
       "      <td>TS-123508014</td>\n",
       "      <td>64</td>\n",
       "      <td>1</td>\n",
       "      <td>26.40</td>\n",
       "      <td>0</td>\n",
       "      <td>0</td>\n",
       "      <td>4</td>\n",
       "      <td>14394.56</td>\n",
       "    </tr>\n",
       "    <tr>\n",
       "      <th>6686</th>\n",
       "      <td>CY-192619047</td>\n",
       "      <td>33</td>\n",
       "      <td>0</td>\n",
       "      <td>26.27</td>\n",
       "      <td>0</td>\n",
       "      <td>0</td>\n",
       "      <td>1</td>\n",
       "      <td>3763.99</td>\n",
       "    </tr>\n",
       "    <tr>\n",
       "      <th>6687</th>\n",
       "      <td>EU-143129392</td>\n",
       "      <td>45</td>\n",
       "      <td>0</td>\n",
       "      <td>28.60</td>\n",
       "      <td>2</td>\n",
       "      <td>0</td>\n",
       "      <td>1</td>\n",
       "      <td>8516.83</td>\n",
       "    </tr>\n",
       "    <tr>\n",
       "      <th>6688</th>\n",
       "      <td>VG-170585902</td>\n",
       "      <td>58</td>\n",
       "      <td>1</td>\n",
       "      <td>32.53</td>\n",
       "      <td>1</td>\n",
       "      <td>0</td>\n",
       "      <td>4</td>\n",
       "      <td>11772.37</td>\n",
       "    </tr>\n",
       "    <tr>\n",
       "      <th>6689</th>\n",
       "      <td>ES-142229065</td>\n",
       "      <td>47</td>\n",
       "      <td>0</td>\n",
       "      <td>28.08</td>\n",
       "      <td>1</td>\n",
       "      <td>0</td>\n",
       "      <td>1</td>\n",
       "      <td>8251.41</td>\n",
       "    </tr>\n",
       "  </tbody>\n",
       "</table>\n",
       "</div>"
      ],
      "text/plain": [
       "         Record_ID  Age  Gender    BMI  Children  Smoker  Region  Expenses\n",
       "6685  TS-123508014   64       1  26.40         0       0       4  14394.56\n",
       "6686  CY-192619047   33       0  26.27         0       0       1   3763.99\n",
       "6687  EU-143129392   45       0  28.60         2       0       1   8516.83\n",
       "6688  VG-170585902   58       1  32.53         1       0       4  11772.37\n",
       "6689  ES-142229065   47       0  28.08         1       0       1   8251.41"
      ]
     },
     "execution_count": 43,
     "metadata": {},
     "output_type": "execute_result"
    }
   ],
   "source": [
    "'''\n",
    "The tail() function can be called on a DataFrame or a Series object, and by default, it returns the last 5 rows.\n",
    "You can also pass an optional parameter n to specify the number of rows you want to retrieve.\n",
    "\n",
    "'''\n",
    "HealthIns.tail()"
   ]
  },
  {
   "cell_type": "code",
   "execution_count": 16,
   "metadata": {},
   "outputs": [
    {
     "data": {
      "text/plain": [
       "Record_ID    6690\n",
       "Age            51\n",
       "Gender          2\n",
       "BMI          2227\n",
       "Children        6\n",
       "Smoker          2\n",
       "Region          4\n",
       "Expenses     6673\n",
       "dtype: int64"
      ]
     },
     "execution_count": 16,
     "metadata": {},
     "output_type": "execute_result"
    }
   ],
   "source": [
    "#display the unique values in the dataset\n",
    "\n",
    "HealthIns.nunique()\n",
    "\n",
    "'''\n",
    "In Pandas, the nunique() function is used to calculate the number of unique values in a Series or DataFrame column. It returns the count of distinct elements present in the column.\n",
    "\n",
    "The nunique() function can be applied to a single column (Series) or an entire DataFrame.\n",
    "\n",
    "'''"
   ]
  },
  {
   "cell_type": "code",
   "execution_count": 17,
   "metadata": {},
   "outputs": [
    {
     "data": {
      "text/plain": [
       "Record_ID    0\n",
       "Age          0\n",
       "Gender       0\n",
       "BMI          0\n",
       "Children     0\n",
       "Smoker       0\n",
       "Region       0\n",
       "Expenses     0\n",
       "dtype: int64"
      ]
     },
     "execution_count": 17,
     "metadata": {},
     "output_type": "execute_result"
    }
   ],
   "source": [
    "#display the missing values information of variables \n",
    "\n",
    "HealthIns.isnull().sum()"
   ]
  },
  {
   "cell_type": "code",
   "execution_count": 23,
   "metadata": {},
   "outputs": [
    {
     "data": {
      "text/plain": [
       "Gender\n",
       "male      3401\n",
       "female    3289\n",
       "Name: count, dtype: int64"
      ]
     },
     "execution_count": 23,
     "metadata": {},
     "output_type": "execute_result"
    }
   ],
   "source": [
    "#Display 'Gender' Categorial variable\n",
    "\n",
    "'''\n",
    "value_counts(): This method is applied to the 'Gender' column and calculates the frequency/count of each unique value in that column.\n",
    "'''\n",
    "\n",
    "HealthIns['Gender'].value_counts()\n"
   ]
  },
  {
   "cell_type": "code",
   "execution_count": 35,
   "metadata": {},
   "outputs": [
    {
     "name": "stdout",
     "output_type": "stream",
     "text": [
      "Gender\n",
      "1    3401\n",
      "0    3289\n",
      "Name: count, dtype: int64\n"
     ]
    }
   ],
   "source": [
    "#Replace 'Gender' variable and convert to integer values\n",
    "\n",
    "HealthIns['Gender'] = HealthIns['Gender'].replace({'male':1,'female':0})\n",
    "\n",
    "print(HealthIns['Gender'].value_counts())"
   ]
  },
  {
   "cell_type": "code",
   "execution_count": 36,
   "metadata": {},
   "outputs": [
    {
     "data": {
      "text/plain": [
       "Smoker\n",
       "0    5320\n",
       "1    1370\n",
       "Name: count, dtype: int64"
      ]
     },
     "execution_count": 36,
     "metadata": {},
     "output_type": "execute_result"
    }
   ],
   "source": [
    "#replace 'smoker' variable and convert to integer values\n",
    "\n",
    "HealthIns['Smoker'] = HealthIns['Smoker'].replace({'yes':1,'no':0})\n",
    "\n",
    "HealthIns['Smoker'].value_counts()\n"
   ]
  },
  {
   "cell_type": "code",
   "execution_count": 30,
   "metadata": {},
   "outputs": [
    {
     "data": {
      "text/plain": [
       "Region\n",
       "southeast    1820\n",
       "southwest    1625\n",
       "northwest    1625\n",
       "northeast    1620\n",
       "Name: count, dtype: int64"
      ]
     },
     "execution_count": 30,
     "metadata": {},
     "output_type": "execute_result"
    }
   ],
   "source": [
    "#display 'Region' categorical variable\n",
    "\n",
    "HealthIns['Region'].value_counts()"
   ]
  },
  {
   "cell_type": "code",
   "execution_count": 40,
   "metadata": {},
   "outputs": [],
   "source": [
    "#Replace 'Region' variable and convert to integer values\n",
    "\n",
    "HealthIns['Region'] = HealthIns['Region'].replace({'southeast':1,'southwest':2,'northwest':3,'northeast':4})\n",
    "\n",
    "HealthIns['Region'] = HealthIns['Region'].astype(int)"
   ]
  },
  {
   "cell_type": "code",
   "execution_count": 41,
   "metadata": {},
   "outputs": [
    {
     "data": {
      "text/plain": [
       "'/home/kevinmithnick/Documents/AIML Internship'"
      ]
     },
     "execution_count": 41,
     "metadata": {},
     "output_type": "execute_result"
    }
   ],
   "source": [
    "pwd"
   ]
  },
  {
   "cell_type": "code",
   "execution_count": 38,
   "metadata": {},
   "outputs": [
    {
     "name": "stdout",
     "output_type": "stream",
     "text": [
      "<class 'pandas.core.frame.DataFrame'>\n",
      "RangeIndex: 6690 entries, 0 to 6689\n",
      "Data columns (total 8 columns):\n",
      " #   Column     Non-Null Count  Dtype  \n",
      "---  ------     --------------  -----  \n",
      " 0   Record_ID  6690 non-null   object \n",
      " 1   Age        6690 non-null   int64  \n",
      " 2   Gender     6690 non-null   int64  \n",
      " 3   BMI        6690 non-null   float64\n",
      " 4   Children   6690 non-null   int64  \n",
      " 5   Smoker     6690 non-null   int64  \n",
      " 6   Region     6690 non-null   int64  \n",
      " 7   Expenses   6690 non-null   float64\n",
      "dtypes: float64(2), int64(5), object(1)\n",
      "memory usage: 418.2+ KB\n"
     ]
    }
   ],
   "source": [
    "#display the dataset information after replacing the categorical variables\n",
    "\n",
    "HealthIns.info()"
   ]
  },
  {
   "cell_type": "code",
   "execution_count": 44,
   "metadata": {},
   "outputs": [
    {
     "data": {
      "text/plain": [
       "Index(['Record_ID', 'Age', 'Gender', 'BMI', 'Children', 'Smoker', 'Region',\n",
       "       'Expenses'],\n",
       "      dtype='object')"
      ]
     },
     "execution_count": 44,
     "metadata": {},
     "output_type": "execute_result"
    }
   ],
   "source": [
    "#displaying all variables\n",
    "\n",
    "HealthIns.columns\n"
   ]
  },
  {
   "cell_type": "code",
   "execution_count": 69,
   "metadata": {},
   "outputs": [],
   "source": [
    "#idenifying the variables for scaling (minmaxscaler)\n",
    "\n",
    "cols = ['Age','BMI','Children','Region']"
   ]
  },
  {
   "cell_type": "code",
   "execution_count": 71,
   "metadata": {},
   "outputs": [
    {
     "ename": "KeyError",
     "evalue": "'Record_ID'",
     "output_type": "error",
     "traceback": [
      "\u001b[0;31m---------------------------------------------------------------------------\u001b[0m",
      "\u001b[0;31mKeyError\u001b[0m                                  Traceback (most recent call last)",
      "File \u001b[0;32m~/.local/lib/python3.10/site-packages/pandas/core/indexes/base.py:3653\u001b[0m, in \u001b[0;36mIndex.get_loc\u001b[0;34m(self, key)\u001b[0m\n\u001b[1;32m   3652\u001b[0m \u001b[39mtry\u001b[39;00m:\n\u001b[0;32m-> 3653\u001b[0m     \u001b[39mreturn\u001b[39;00m \u001b[39mself\u001b[39;49m\u001b[39m.\u001b[39;49m_engine\u001b[39m.\u001b[39;49mget_loc(casted_key)\n\u001b[1;32m   3654\u001b[0m \u001b[39mexcept\u001b[39;00m \u001b[39mKeyError\u001b[39;00m \u001b[39mas\u001b[39;00m err:\n",
      "File \u001b[0;32m~/.local/lib/python3.10/site-packages/pandas/_libs/index.pyx:147\u001b[0m, in \u001b[0;36mpandas._libs.index.IndexEngine.get_loc\u001b[0;34m()\u001b[0m\n",
      "File \u001b[0;32m~/.local/lib/python3.10/site-packages/pandas/_libs/index.pyx:176\u001b[0m, in \u001b[0;36mpandas._libs.index.IndexEngine.get_loc\u001b[0;34m()\u001b[0m\n",
      "File \u001b[0;32mpandas/_libs/hashtable_class_helper.pxi:7080\u001b[0m, in \u001b[0;36mpandas._libs.hashtable.PyObjectHashTable.get_item\u001b[0;34m()\u001b[0m\n",
      "File \u001b[0;32mpandas/_libs/hashtable_class_helper.pxi:7088\u001b[0m, in \u001b[0;36mpandas._libs.hashtable.PyObjectHashTable.get_item\u001b[0;34m()\u001b[0m\n",
      "\u001b[0;31mKeyError\u001b[0m: 'Record_ID'",
      "\nThe above exception was the direct cause of the following exception:\n",
      "\u001b[0;31mKeyError\u001b[0m                                  Traceback (most recent call last)",
      "Cell \u001b[0;32mIn[71], line 3\u001b[0m\n\u001b[1;32m      1\u001b[0m \u001b[39m#Delete variables which are not influencing the target variable\u001b[39;00m\n\u001b[0;32m----> 3\u001b[0m \u001b[39mdel\u001b[39;00m HealthIns[\u001b[39m'\u001b[39m\u001b[39mRecord_ID\u001b[39m\u001b[39m'\u001b[39m]\n",
      "File \u001b[0;32m~/.local/lib/python3.10/site-packages/pandas/core/generic.py:4279\u001b[0m, in \u001b[0;36mNDFrame.__delitem__\u001b[0;34m(self, key)\u001b[0m\n\u001b[1;32m   4274\u001b[0m             deleted \u001b[39m=\u001b[39m \u001b[39mTrue\u001b[39;00m\n\u001b[1;32m   4275\u001b[0m \u001b[39mif\u001b[39;00m \u001b[39mnot\u001b[39;00m deleted:\n\u001b[1;32m   4276\u001b[0m     \u001b[39m# If the above loop ran and didn't delete anything because\u001b[39;00m\n\u001b[1;32m   4277\u001b[0m     \u001b[39m# there was no match, this call should raise the appropriate\u001b[39;00m\n\u001b[1;32m   4278\u001b[0m     \u001b[39m# exception:\u001b[39;00m\n\u001b[0;32m-> 4279\u001b[0m     loc \u001b[39m=\u001b[39m \u001b[39mself\u001b[39;49m\u001b[39m.\u001b[39;49maxes[\u001b[39m-\u001b[39;49m\u001b[39m1\u001b[39;49m]\u001b[39m.\u001b[39;49mget_loc(key)\n\u001b[1;32m   4280\u001b[0m     \u001b[39mself\u001b[39m\u001b[39m.\u001b[39m_mgr \u001b[39m=\u001b[39m \u001b[39mself\u001b[39m\u001b[39m.\u001b[39m_mgr\u001b[39m.\u001b[39midelete(loc)\n\u001b[1;32m   4282\u001b[0m \u001b[39m# delete from the caches\u001b[39;00m\n",
      "File \u001b[0;32m~/.local/lib/python3.10/site-packages/pandas/core/indexes/base.py:3655\u001b[0m, in \u001b[0;36mIndex.get_loc\u001b[0;34m(self, key)\u001b[0m\n\u001b[1;32m   3653\u001b[0m     \u001b[39mreturn\u001b[39;00m \u001b[39mself\u001b[39m\u001b[39m.\u001b[39m_engine\u001b[39m.\u001b[39mget_loc(casted_key)\n\u001b[1;32m   3654\u001b[0m \u001b[39mexcept\u001b[39;00m \u001b[39mKeyError\u001b[39;00m \u001b[39mas\u001b[39;00m err:\n\u001b[0;32m-> 3655\u001b[0m     \u001b[39mraise\u001b[39;00m \u001b[39mKeyError\u001b[39;00m(key) \u001b[39mfrom\u001b[39;00m \u001b[39merr\u001b[39;00m\n\u001b[1;32m   3656\u001b[0m \u001b[39mexcept\u001b[39;00m \u001b[39mTypeError\u001b[39;00m:\n\u001b[1;32m   3657\u001b[0m     \u001b[39m# If we have a listlike key, _check_indexing_error will raise\u001b[39;00m\n\u001b[1;32m   3658\u001b[0m     \u001b[39m#  InvalidIndexError. Otherwise we fall through and re-raise\u001b[39;00m\n\u001b[1;32m   3659\u001b[0m     \u001b[39m#  the TypeError.\u001b[39;00m\n\u001b[1;32m   3660\u001b[0m     \u001b[39mself\u001b[39m\u001b[39m.\u001b[39m_check_indexing_error(key)\n",
      "\u001b[0;31mKeyError\u001b[0m: 'Record_ID'"
     ]
    }
   ],
   "source": [
    "#Delete variables which are not influencing the target variable\n",
    "\n",
    "del HealthIns['Record_ID']"
   ]
  },
  {
   "cell_type": "code",
   "execution_count": 72,
   "metadata": {},
   "outputs": [
    {
     "data": {
      "text/html": [
       "<div>\n",
       "<style scoped>\n",
       "    .dataframe tbody tr th:only-of-type {\n",
       "        vertical-align: middle;\n",
       "    }\n",
       "\n",
       "    .dataframe tbody tr th {\n",
       "        vertical-align: top;\n",
       "    }\n",
       "\n",
       "    .dataframe thead th {\n",
       "        text-align: right;\n",
       "    }\n",
       "</style>\n",
       "<table border=\"1\" class=\"dataframe\">\n",
       "  <thead>\n",
       "    <tr style=\"text-align: right;\">\n",
       "      <th></th>\n",
       "      <th>Age</th>\n",
       "      <th>Gender</th>\n",
       "      <th>BMI</th>\n",
       "      <th>Children</th>\n",
       "      <th>Smoker</th>\n",
       "      <th>Region</th>\n",
       "      <th>Expenses</th>\n",
       "    </tr>\n",
       "  </thead>\n",
       "  <tbody>\n",
       "    <tr>\n",
       "      <th>0</th>\n",
       "      <td>43</td>\n",
       "      <td>1</td>\n",
       "      <td>36.25</td>\n",
       "      <td>1</td>\n",
       "      <td>1</td>\n",
       "      <td>1</td>\n",
       "      <td>40293.04</td>\n",
       "    </tr>\n",
       "    <tr>\n",
       "      <th>1</th>\n",
       "      <td>40</td>\n",
       "      <td>1</td>\n",
       "      <td>34.56</td>\n",
       "      <td>2</td>\n",
       "      <td>0</td>\n",
       "      <td>1</td>\n",
       "      <td>23569.63</td>\n",
       "    </tr>\n",
       "    <tr>\n",
       "      <th>2</th>\n",
       "      <td>48</td>\n",
       "      <td>1</td>\n",
       "      <td>26.04</td>\n",
       "      <td>5</td>\n",
       "      <td>0</td>\n",
       "      <td>2</td>\n",
       "      <td>10115.35</td>\n",
       "    </tr>\n",
       "    <tr>\n",
       "      <th>3</th>\n",
       "      <td>50</td>\n",
       "      <td>1</td>\n",
       "      <td>31.09</td>\n",
       "      <td>3</td>\n",
       "      <td>1</td>\n",
       "      <td>3</td>\n",
       "      <td>40736.57</td>\n",
       "    </tr>\n",
       "    <tr>\n",
       "      <th>4</th>\n",
       "      <td>42</td>\n",
       "      <td>1</td>\n",
       "      <td>33.04</td>\n",
       "      <td>1</td>\n",
       "      <td>1</td>\n",
       "      <td>4</td>\n",
       "      <td>39144.85</td>\n",
       "    </tr>\n",
       "  </tbody>\n",
       "</table>\n",
       "</div>"
      ],
      "text/plain": [
       "   Age  Gender    BMI  Children  Smoker  Region  Expenses\n",
       "0   43       1  36.25         1       1       1  40293.04\n",
       "1   40       1  34.56         2       0       1  23569.63\n",
       "2   48       1  26.04         5       0       2  10115.35\n",
       "3   50       1  31.09         3       1       3  40736.57\n",
       "4   42       1  33.04         1       1       4  39144.85"
      ]
     },
     "execution_count": 72,
     "metadata": {},
     "output_type": "execute_result"
    }
   ],
   "source": [
    "HealthIns.head()"
   ]
  },
  {
   "cell_type": "code",
   "execution_count": 73,
   "metadata": {},
   "outputs": [],
   "source": [
    "#identifying the independent and target (dependent) variables\n",
    "\n",
    "indepVar = []\n",
    " \n",
    "for col in HealthIns.columns:\n",
    "    if col != 'Expenses':\n",
    "        indepVar.append(col)\n",
    "TargetVar = 'Expenses'\n",
    "\n",
    "x = HealthIns[indepVar]\n",
    "y = HealthIns[TargetVar]\n"
   ]
  },
  {
   "cell_type": "code",
   "execution_count": 74,
   "metadata": {},
   "outputs": [
    {
     "data": {
      "text/plain": [
       "((4683, 6), (2007, 6), (4683,), (2007,))"
      ]
     },
     "execution_count": 74,
     "metadata": {},
     "output_type": "execute_result"
    }
   ],
   "source": [
    "#split the data into train and test (random smapling )\n",
    "\n",
    "'''\n",
    "\n",
    "from sklearn.model_selection import train_test_split: This line imports the train_test_split() function from the sklearn.model_selection module. \n",
    "It is used to split the data into training and testing sets.\n",
    "\n",
    "x and y: These are typically the input features (x) and target variable (y) that you want to split into training and testing sets.\n",
    "\n",
    "test_size=0.3: This parameter specifies the proportion of the data that should be allocated to the testing set. \n",
    "In this case, 30% of the data will be assigned to the testing set, while the remaining 70% will be used for training.\n",
    "\n",
    "random_state=42: This parameter sets the random seed for reproducibility. It ensures that the data split will be the same every time you run the code with the same random_state value.\n",
    "This is useful if you want to obtain consistent results\n",
    "\n",
    "'''\n",
    "\n",
    "from sklearn.model_selection import train_test_split\n",
    "\n",
    "x_train,x_test,y_train,y_test = train_test_split(x,y,test_size = 0.3,random_state = 42)\n",
    "\n",
    "#display the shape of the train and test data\n",
    "\n",
    "x_train.shape,x_test.shape,y_train.shape,y_test.shape"
   ]
  },
  {
   "cell_type": "code",
   "execution_count": 75,
   "metadata": {},
   "outputs": [],
   "source": [
    "# Scaling the features by using MinMaxScaler\n",
    "\n",
    "from sklearn.preprocessing import MinMaxScaler\n",
    "\n",
    "mmscaler = MinMaxScaler(feature_range=(0, 1))\n",
    "\n",
    "x_train[cols] = mmscaler.fit_transform(x_train[cols])\n",
    "x_train = pd.DataFrame(x_train)\n",
    "\n",
    "x_test[cols] = mmscaler.fit_transform(x_test[cols])\n",
    "x_test = pd.DataFrame(x_test)"
   ]
  },
  {
   "cell_type": "markdown",
   "metadata": {},
   "source": [
    "REGRESSION ALGORITHM"
   ]
  },
  {
   "cell_type": "code",
   "execution_count": 76,
   "metadata": {},
   "outputs": [],
   "source": [
    "#train the algorithm \n",
    "\n",
    "from sklearn.linear_model import LinearRegression\n",
    "\n",
    "lr = LinearRegression()\n",
    "\n",
    "lr.fit(x_train,y_train)\n",
    "\n",
    "#predict the test data\n",
    "\n",
    "y_pred = lr.predict(x_test)"
   ]
  },
  {
   "cell_type": "code",
   "execution_count": 80,
   "metadata": {},
   "outputs": [
    {
     "name": "stdout",
     "output_type": "stream",
     "text": [
      "Mean Absolute Error(MAE): 4266.033\n",
      "Mean Squared Error(MSE): 36586826.727\n",
      "Root Mean Squared Error(RMSE): 65.315\n",
      "R2_score: 0.7572\n",
      "Mean Absolute Percentage Error(MAPE): 44.803 %\n",
      "Root Mean Squared Log Error(RMSLE): 4.179\n"
     ]
    }
   ],
   "source": [
    "# Evaluation metrics for Regression model\n",
    "from sklearn import metrics\n",
    "print('Mean Absolute Error(MAE):',round(metrics.mean_absolute_error(y_test,y_pred),3))\n",
    "print('Mean Squared Error(MSE):',round(metrics.mean_squared_error(y_test,y_pred),3))\n",
    "print('Root Mean Squared Error(RMSE):',round(np.sqrt(metrics.mean_absolute_error(y_test,y_pred)),3))\n",
    "print('R2_score:',round(metrics.r2_score(y_test,y_pred),6))\n",
    "print('Mean Absolute Percentage Error(MAPE):',round(metrics.mean_absolute_percentage_error(y_test,y_pred)*100,3),'%')\n",
    "print('Root Mean Squared Log Error(RMSLE):',round(np.log(np.sqrt(metrics.mean_absolute_error(y_test,y_pred))),3))"
   ]
  },
  {
   "cell_type": "code",
   "execution_count": 81,
   "metadata": {},
   "outputs": [
    {
     "name": "stdout",
     "output_type": "stream",
     "text": [
      "Mean Absolute Percentage Error (MAPE): 44.803 %\n"
     ]
    }
   ],
   "source": [
    "# Define the function to calculate the MAPE - Mean Absolute Percentage Error\n",
    "\n",
    "def MAPE (y_test, y_pred): \n",
    "    y_test, y_pred = np.array(y_test), np.array(y_pred)\n",
    "    return np.mean(np.abs((y_test - y_pred) / y_test)) * 100\n",
    "\n",
    "# Evaluation of MAPE \n",
    "\n",
    "result = MAPE(y_test, y_pred)\n",
    "print('Mean Absolute Percentage Error (MAPE):', round(result, 3), '%')"
   ]
  },
  {
   "cell_type": "code",
   "execution_count": 85,
   "metadata": {},
   "outputs": [
    {
     "name": "stdout",
     "output_type": "stream",
     "text": [
      "Adjusted R square value: 0.757\n"
     ]
    }
   ],
   "source": [
    "#Calculate the Adjusted R square value\n",
    "\n",
    "r_squared  = round(metrics.r2_score(y_test,y_pred),6)\n",
    "adjusted_r_squared = round(1 - (1-r_squared)*(len(y)-1)/(len(y)-x.shape[1]-1),3)\n",
    "print('Adjusted R square value:',adjusted_r_squared)"
   ]
  },
  {
   "cell_type": "code",
   "execution_count": 87,
   "metadata": {},
   "outputs": [
    {
     "data": {
      "text/html": [
       "<div>\n",
       "<style scoped>\n",
       "    .dataframe tbody tr th:only-of-type {\n",
       "        vertical-align: middle;\n",
       "    }\n",
       "\n",
       "    .dataframe tbody tr th {\n",
       "        vertical-align: top;\n",
       "    }\n",
       "\n",
       "    .dataframe thead th {\n",
       "        text-align: right;\n",
       "    }\n",
       "</style>\n",
       "<table border=\"1\" class=\"dataframe\">\n",
       "  <thead>\n",
       "    <tr style=\"text-align: right;\">\n",
       "      <th></th>\n",
       "      <th>Record_ID</th>\n",
       "      <th>Age</th>\n",
       "      <th>Gender</th>\n",
       "      <th>BMI</th>\n",
       "      <th>Children</th>\n",
       "      <th>Smoker</th>\n",
       "      <th>Region</th>\n",
       "      <th>Expenses</th>\n",
       "      <th>Expenses_A</th>\n",
       "      <th>Expenses_P</th>\n",
       "    </tr>\n",
       "  </thead>\n",
       "  <tbody>\n",
       "    <tr>\n",
       "      <th>2436</th>\n",
       "      <td>LD-198458766</td>\n",
       "      <td>61</td>\n",
       "      <td>female</td>\n",
       "      <td>31.99</td>\n",
       "      <td>0</td>\n",
       "      <td>yes</td>\n",
       "      <td>northwest</td>\n",
       "      <td>43590.07</td>\n",
       "      <td>43590.07</td>\n",
       "      <td>36954.836768</td>\n",
       "    </tr>\n",
       "    <tr>\n",
       "      <th>3879</th>\n",
       "      <td>SU-157890217</td>\n",
       "      <td>49</td>\n",
       "      <td>female</td>\n",
       "      <td>24.68</td>\n",
       "      <td>1</td>\n",
       "      <td>no</td>\n",
       "      <td>southwest</td>\n",
       "      <td>26238.33</td>\n",
       "      <td>26238.33</td>\n",
       "      <td>7957.131640</td>\n",
       "    </tr>\n",
       "    <tr>\n",
       "      <th>5831</th>\n",
       "      <td>QY-197644831</td>\n",
       "      <td>61</td>\n",
       "      <td>male</td>\n",
       "      <td>40.69</td>\n",
       "      <td>0</td>\n",
       "      <td>yes</td>\n",
       "      <td>southwest</td>\n",
       "      <td>48179.32</td>\n",
       "      <td>48179.32</td>\n",
       "      <td>39366.289686</td>\n",
       "    </tr>\n",
       "    <tr>\n",
       "      <th>4421</th>\n",
       "      <td>VS-156242441</td>\n",
       "      <td>18</td>\n",
       "      <td>male</td>\n",
       "      <td>33.70</td>\n",
       "      <td>0</td>\n",
       "      <td>no</td>\n",
       "      <td>southeast</td>\n",
       "      <td>1136.40</td>\n",
       "      <td>1136.40</td>\n",
       "      <td>2271.955445</td>\n",
       "    </tr>\n",
       "    <tr>\n",
       "      <th>5603</th>\n",
       "      <td>PY-164851756</td>\n",
       "      <td>21</td>\n",
       "      <td>female</td>\n",
       "      <td>25.23</td>\n",
       "      <td>1</td>\n",
       "      <td>no</td>\n",
       "      <td>northwest</td>\n",
       "      <td>2715.16</td>\n",
       "      <td>2715.16</td>\n",
       "      <td>1577.412607</td>\n",
       "    </tr>\n",
       "  </tbody>\n",
       "</table>\n",
       "</div>"
      ],
      "text/plain": [
       "         Record_ID  Age  Gender    BMI  Children Smoker     Region  Expenses  \\\n",
       "2436  LD-198458766   61  female  31.99         0    yes  northwest  43590.07   \n",
       "3879  SU-157890217   49  female  24.68         1     no  southwest  26238.33   \n",
       "5831  QY-197644831   61    male  40.69         0    yes  southwest  48179.32   \n",
       "4421  VS-156242441   18    male  33.70         0     no  southeast   1136.40   \n",
       "5603  PY-164851756   21  female  25.23         1     no  northwest   2715.16   \n",
       "\n",
       "      Expenses_A    Expenses_P  \n",
       "2436    43590.07  36954.836768  \n",
       "3879    26238.33   7957.131640  \n",
       "5831    48179.32  39366.289686  \n",
       "4421     1136.40   2271.955445  \n",
       "5603     2715.16   1577.412607  "
      ]
     },
     "execution_count": 87,
     "metadata": {},
     "output_type": "execute_result"
    }
   ],
   "source": [
    "#Display the final results \n",
    "\n",
    "results = pd.DataFrame({'Expenses_A':y_test,'Expenses_P':y_pred})\n",
    "\n",
    "#Merge two Dataframes on index of both the dataframes\n",
    "\n",
    "ResultsFinal = HealthIns_BK2.merge(results, left_index=True, right_index=True)\n",
    "\n",
    "#Display 10 records randomly\n",
    "\n",
    "ResultsFinal.sample(5)"
   ]
  }
 ],
 "metadata": {
  "kernelspec": {
   "display_name": "base",
   "language": "python",
   "name": "python3"
  },
  "language_info": {
   "codemirror_mode": {
    "name": "ipython",
    "version": 3
   },
   "file_extension": ".py",
   "mimetype": "text/x-python",
   "name": "python",
   "nbconvert_exporter": "python",
   "pygments_lexer": "ipython3",
   "version": "3.10.9"
  },
  "orig_nbformat": 4
 },
 "nbformat": 4,
 "nbformat_minor": 2
}
